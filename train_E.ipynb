{
 "cells": [
  {
   "cell_type": "code",
   "execution_count": 1,
   "metadata": {},
   "outputs": [
    {
     "name": "stderr",
     "output_type": "stream",
     "text": [
      "/opt/anaconda3/envs/llm_agent/lib/python3.10/site-packages/tqdm/auto.py:21: TqdmWarning: IProgress not found. Please update jupyter and ipywidgets. See https://ipywidgets.readthedocs.io/en/stable/user_install.html\n",
      "  from .autonotebook import tqdm as notebook_tqdm\n",
      "Loading JSONL: 1326it [00:00, 84572.35it/s]"
     ]
    },
    {
     "name": "stdout",
     "output_type": "stream",
     "text": [
      "✅ Saved 589 examples with accuracy == -1 to sft_dataset.pkl\n"
     ]
    },
    {
     "name": "stderr",
     "output_type": "stream",
     "text": [
      "\n"
     ]
    }
   ],
   "source": [
    "import wandb\n",
    "from sft_unsloth import load_sft_dataset, load_model, run_training\n",
    "\n",
    "# Step 1: Load or preprocess training data\n",
    "train_conv = load_sft_dataset(\"results/selected_pipeline_finetune_data_final.jsonl\", \"sft_dataset.pkl\")"
   ]
  },
  {
   "cell_type": "code",
   "execution_count": 2,
   "metadata": {},
   "outputs": [
    {
     "name": "stdout",
     "output_type": "stream",
     "text": [
      "{'messages': [{'role': 'user', 'content': [{'type': 'text', 'text': 'Given the context below and the image, answer the question truthfully in one line. Use context to support your answer explicitly. If insufficient information is available, say so.\\n\\n##Image Caption: The object in the image is a Nissan 300ZX, which is an American-assembled vehicle.\\n##Some Context: \\n##Question: can i purchase an american assembled vehicle of this model?\\n##Answer:'}]}, {'role': 'assistant', 'content': [{'type': 'text', 'text': \"I don't know\"}]}]}\n"
     ]
    }
   ],
   "source": [
    "import pickle\n",
    "\n",
    "# Load the saved dataset\n",
    "with open(\"sft_dataset.pkl\", \"rb\") as f:\n",
    "    train_conv = pickle.load(f)\n",
    "\n",
    "# Print the 5th example\n",
    "print(train_conv[4])"
   ]
  },
  {
   "cell_type": "code",
   "execution_count": null,
   "metadata": {},
   "outputs": [],
   "source": [
    "from sft_unsloth import load_sft_dataset, load_model, run_training\n",
    "# Step 2: Load model and tokenizer\n",
    "model, tokenizer = load_model()\n",
    "\n",
    "# Step 3: Start training\n",
    "run_training(train_conv, model, tokenizer)"
   ]
  }
 ],
 "metadata": {
  "kernelspec": {
   "display_name": "llm_agent",
   "language": "python",
   "name": "python3"
  },
  "language_info": {
   "codemirror_mode": {
    "name": "ipython",
    "version": 3
   },
   "file_extension": ".py",
   "mimetype": "text/x-python",
   "name": "python",
   "nbconvert_exporter": "python",
   "pygments_lexer": "ipython3",
   "version": "3.10.13"
  }
 },
 "nbformat": 4,
 "nbformat_minor": 2
}
