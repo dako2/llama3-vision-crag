{
 "cells": [
  {
   "cell_type": "code",
   "execution_count": 4,
   "metadata": {},
   "outputs": [
    {
     "name": "stderr",
     "output_type": "stream",
     "text": [
      "Loading JSONL: 1326it [00:00, 18915.82it/s]"
     ]
    },
    {
     "name": "stdout",
     "output_type": "stream",
     "text": [
      "✅ Saved 884 examples with accuracy == 1 or -1 to sft_dataset.pkl\n"
     ]
    },
    {
     "name": "stderr",
     "output_type": "stream",
     "text": [
      "\n"
     ]
    }
   ],
   "source": [
    "import wandb\n",
    "from sft_unsloth_E import load_sft_dataset\n",
    "\n",
    "# Step 1: Load or preprocess training data\n",
    "train_conv = load_sft_dataset(\"results/selected_pipeline_finetune_data_final.jsonl\", \"sft_dataset.pkl\")"
   ]
  },
  {
   "cell_type": "code",
   "execution_count": 5,
   "metadata": {},
   "outputs": [
    {
     "name": "stdout",
     "output_type": "stream",
     "text": [
      "{'messages': [{'role': 'user', 'content': [{'type': 'text', 'text': 'Given the context below and the image, answer the question truthfully in one line. Use context to support your answer explicitly. If insufficient information is available, say so.\\n\\n##Image Caption: The object in the image is a St. Isaac\\'s Cathedral, which took approximately 40 years to build.\\n##Some Context: [Info 1] Our bus pulled up to a wide area across from the Mariinsky Palace. I had no idea what to expect here; I had never heard of it. Where are we now? At St. Isaac’s Cathedral (Isaakievsky Sobor). St. Isaac’s was originally built as a cathedral dedicated to Saint Isaac of Dalmatia and is part ofOur bus pulled up to a wide area across from the Mariinsky Palace. I had no idea what to expect here; I had never heard of it. Where are we now? At St. Isaac’s Cathedral (Isaakievsky Sobor). St. Isaac’s was originally built as a cathedral dedicated to Saint Isaac of Dalmatia and is part of the Orthodox Church. These days, worship is again permitted, but only in reserved sections such as the chapels. Services are held in the main part of the cathedral during major religious holidays such as feast days. The version of the church we see today is actually the fourth iteration of St. Isaac’s Church and is by far the most magnificent. This version was designed by French-born architect Auguste de Montferrand, who also designed the Alexander Column, which we would see later. Construction on the cathedral began in 1818 and took 40 years to complete; 24 years for the main construction of the building, the remaining 16 to decorate and furnish the interior. It was finally dedicated in 1858. The Finnish expression, “To build like the church of Isaac,” grew out of this because construction took so long. As you might imagine, the acoustics inside the cathedral are simply superb! Picture with your mind’s ear what a full choir might sound like in here. Or a small instrumental ensemble. Or a large one, for that matter. You might notice there are no pews or chairs. That is because in an Orthodox church, prayer and worship is traditionally done standing up; there is no sitting unless you are infirm or elderly. If you attended church services here in St. Isaac’s early days, you might have found yourself standing alongside as many as 14,000 other worshippers!\\n\\n[Info 3] St. Isaac&#x27;s Cathedral was built 40 years, and when finally removed from his scaffolding, the need for the construction of the temple disappeared almost immediately. About who built the famous temple, how many reconstructions he experienced and what legends surround him — in the material of ...St. Isaac\\'s Cathedral was built 40 years, and when finally removed from his scaffolding, the need for the construction of the temple disappeared almost immediately. About who built the famous temple, how many reconstructions he experienced and what legends surround him — in the material of the portal \"Guide for you\". However, the Cathedral still suffered during the war: exploding near the temple fragments damaged the column, and the cold (during the blockade of Isaac was not heated) — wall paintings. To save time on exploring the city, book a tour. Visit SPb Tram Museum and have a memorable ride on a vintage tram through the historical attractions. (more…) Enlarge your War and Peace knowledge by joining Guide For You on the War and Peace Trail. (more…) If you are looking for something unique to do in Saint Petersburg, experience Russian Blacksmith mastership! The sculptural decoration of the Cathedral was created under the leadership of Ivan Vitali. By analogy with the Golden gate of the Florentine baptistery, he produced impressive bronze doors with images of saints. Vitali also created statues of 12 apostles and angels at the corners of the building and above the pilasters (flat columns). St. Isaac\\'s Cathedral of Auguste Montferrand was the fourth Cathedral built on this square. The first Church in honor of St. Isaac of Dalmatia was built for workers of Admiralty shipyards almost immediately after the Foundation of St. Petersburg. Or rather, it was rebuilt from the building of the drawing barn under the leadership of Harman van Boles.\\n\\n\\n##Question: how long did this take to build?\\n##Answer:'}]}, {'role': 'assistant', 'content': [{'type': 'text', 'text': \"saint isaac's cathedral took 40 years to build, from 1818 to 1858.\"}]}]}\n"
     ]
    }
   ],
   "source": [
    "import pickle\n",
    "from sft_unsloth_E import load_model, run_training\n",
    "\n",
    "# Load the saved dataset\n",
    "with open(\"sft_dataset.pkl\", \"rb\") as f:\n",
    "    train_conv = pickle.load(f)\n",
    "\n",
    "# Print the 5th example\n",
    "print(train_conv[4])"
   ]
  },
  {
   "cell_type": "code",
   "execution_count": null,
   "metadata": {},
   "outputs": [],
   "source": [
    "from sft_unsloth import load_sft_dataset, load_model, run_training\n",
    "# Step 2: Load model and tokenizer\n",
    "model, tokenizer = load_model()\n",
    "\n",
    "# Step 3: Start training\n",
    "run_training(train_conv, model, tokenizer)"
   ]
  }
 ],
 "metadata": {
  "kernelspec": {
   "display_name": "llm_agent",
   "language": "python",
   "name": "python3"
  },
  "language_info": {
   "codemirror_mode": {
    "name": "ipython",
    "version": 3
   },
   "file_extension": ".py",
   "mimetype": "text/x-python",
   "name": "python",
   "nbconvert_exporter": "python",
   "pygments_lexer": "ipython3",
   "version": "3.10.13"
  }
 },
 "nbformat": 4,
 "nbformat_minor": 2
}
